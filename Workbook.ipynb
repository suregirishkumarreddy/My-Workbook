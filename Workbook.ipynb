{
 "cells": [
  {
   "cell_type": "code",
   "execution_count": 28,
   "metadata": {},
   "outputs": [
    {
     "name": "stdout",
     "output_type": "stream",
     "text": [
      "2002,2009,2016,2023,2037,2044,2051,2058,2072,2079,2086,2093,2107,2114,2121,2128,2142,2149,2156,2163,2177,2184,2191,2198,2212,2219,2226,2233,2247,2254,2261,2268,2282,2289,2296,2303,2317,2324,2331,2338,2352,2359,2366,2373,2387,2394,2401,2408,2422,2429,2436,2443,2457,2464,2471,2478,2492,2499,2506,2513,2527,2534,2541,2548,2562,2569,2576,2583,2597,2604,2611,2618,2632,2639,2646,2653,2667,2674,2681,2688,2702,2709,2716,2723,2737,2744,2751,2758,2772,2779,2786,2793,2807,2814,2821,2828,2842,2849,2856,2863,2877,2884,2891,2898,2912,2919,2926,2933,2947,2954,2961,2968,2982,2989,2996,3003,3017,3024,3031,3038,3052,3059,3066,3073,3087,3094,3101,3108,3122,3129,3136,3143,3157,3164,3171,3178,3192,3199\n"
     ]
    }
   ],
   "source": [
    "# Initialize the output sequence variable\n",
    "out_seq = ''\n",
    "\n",
    "# Read every number between 2000 and 3200\n",
    "# Identify the numbers which are divisible by 7 (reminder = 0) and not a multiple of 5 (reminder not= 0)\n",
    "# Create a comma-separated string with all the numbers satisfying the above both conditions.\n",
    "\n",
    "for i in range(2000,3201):\n",
    "    if ((i % 7 == 0) & (i % 5 != 0)):\n",
    "        if out_seq == '':\n",
    "            out_seq = str(i)\n",
    "        else:\n",
    "            out_seq = str(out_seq) + ',' + str(i)\n",
    "\n",
    "# Display the output sequence variable (string)\n",
    "print(out_seq)"
   ]
  },
  {
   "cell_type": "code",
   "execution_count": 11,
   "metadata": {},
   "outputs": [
    {
     "data": {
      "text/plain": [
       "0"
      ]
     },
     "execution_count": 11,
     "metadata": {},
     "output_type": "execute_result"
    }
   ],
   "source": [
    "2002%7"
   ]
  },
  {
   "cell_type": "code",
   "execution_count": 45,
   "metadata": {},
   "outputs": [
    {
     "name": "stdout",
     "output_type": "stream",
     "text": [
      "2002,2009,2016,2023,2037,2044,2051,2058,2072,2079,2086,2093,2107,2114,2121,2128,2142,2149,2156,2163,2177,2184,2191,2198,2212,2219,2226,2233,2247,2254,2261,2268,2282,2289,2296,2303,2317,2324,2331,2338,2352,2359,2366,2373,2387,2394,2401,2408,2422,2429,2436,2443,2457,2464,2471,2478,2492,2499,2506,2513,2527,2534,2541,2548,2562,2569,2576,2583,2597,2604,2611,2618,2632,2639,2646,2653,2667,2674,2681,2688,2702,2709,2716,2723,2737,2744,2751,2758,2772,2779,2786,2793,2807,2814,2821,2828,2842,2849,2856,2863,2877,2884,2891,2898,2912,2919,2926,2933,2947,2954,2961,2968,2982,2989,2996,3003,3017,3024,3031,3038,3052,3059,3066,3073,3087,3094,3101,3108,3122,3129,3136,3143,3157,3164,3171,3178,3192,3199\n"
     ]
    }
   ],
   "source": [
    "# Initialize empty list\n",
    "l = []\n",
    "\n",
    "# Read every number between 2000 and 3200\n",
    "# Identify the numbers which are divisible by 7 (reminder = 0) and not a multiple of 5 (reminder not= 0)\n",
    "# Append all the numbers satisfying the above both conditions, into the list l\n",
    "\n",
    "for i in range(2000,3201):\n",
    "    if ((i % 7 == 0) & (i % 5 != 0)):\n",
    "        l.append(i)\n",
    "\n",
    "# Display the list as a comma-separated string\n",
    "print(*l,sep=',')"
   ]
  },
  {
   "cell_type": "code",
   "execution_count": 46,
   "metadata": {},
   "outputs": [
    {
     "name": "stdout",
     "output_type": "stream",
     "text": [
      "Enter your first name: Girish\n",
      "Enter your last name: Sure\n",
      "hsiriG eruS\n"
     ]
    }
   ],
   "source": [
    "# Get the First and Last Name through user input\n",
    "first_name = input('Enter your first name: ')\n",
    "last_name = input('Enter your last name: ')\n",
    "\n",
    "# Arrange the first name in reverse order\n",
    "rev_first_name = ''\n",
    "for x in first_name:\n",
    "    rev_first_name = x + rev_first_name\n",
    "\n",
    "# Arrange the last name in reverse order\n",
    "rev_last_name = ''\n",
    "for y in last_name:\n",
    "    rev_last_name = y + rev_last_name\n",
    "\n",
    "# Print the first name and last name in the reverse order (individually) with a space in-between\n",
    "print(rev_first_name + ' ' + rev_last_name)"
   ]
  },
  {
   "cell_type": "code",
   "execution_count": 41,
   "metadata": {},
   "outputs": [
    {
     "name": "stdout",
     "output_type": "stream",
     "text": [
      "Enter your first name: Girish\n",
      "Enter your last name: Sure\n",
      "hsiriG eruS\n"
     ]
    }
   ],
   "source": [
    "# Get the First and Last Name through user input\n",
    "first_name = input('Enter your first name: ')\n",
    "last_name = input('Enter your last name: ')\n",
    "\n",
    "# Print the first name and last name in the reverse order (individually) with a space in-between\n",
    "print(first_name[::-1] + ' ' + last_name[::-1])"
   ]
  },
  {
   "cell_type": "code",
   "execution_count": 29,
   "metadata": {},
   "outputs": [
    {
     "name": "stdout",
     "output_type": "stream",
     "text": [
      "Enter your first name: Girish\n"
     ]
    },
    {
     "data": {
      "text/plain": [
       "[5, 4, 3, 2, 1]"
      ]
     },
     "execution_count": 29,
     "metadata": {},
     "output_type": "execute_result"
    }
   ],
   "source": [
    "first_name = input('Enter your first name: ')\n",
    "list(range(len(first_name)-1,0,-1))"
   ]
  },
  {
   "cell_type": "code",
   "execution_count": 39,
   "metadata": {},
   "outputs": [
    {
     "name": "stdout",
     "output_type": "stream",
     "text": [
      "hsiriG\n"
     ]
    }
   ],
   "source": [
    "print(first_name[::-1])"
   ]
  },
  {
   "cell_type": "code",
   "execution_count": 49,
   "metadata": {},
   "outputs": [
    {
     "name": "stdout",
     "output_type": "stream",
     "text": [
      "Enter diameter of the Sphere in cms: 12\n",
      "Volume of the Sphere = 905.142857142857\n"
     ]
    }
   ],
   "source": [
    "# Accept the diameter of the sphere in cms from user and convert into a integer value\n",
    "diameter = int(input('Enter diameter of the Sphere in cms: '))\n",
    "\n",
    "# Calculate the volume of the sphere (** for to-the-power-of)\n",
    "volume = (4/3) * (22/7) * ((diameter/2) ** 3)\n",
    "\n",
    "# Print the result\n",
    "print('Volume of the Sphere = ' + str(volume))"
   ]
  },
  {
   "cell_type": "code",
   "execution_count": 57,
   "metadata": {},
   "outputs": [
    {
     "name": "stdout",
     "output_type": "stream",
     "text": [
      "Enter the numbers separated by commas: 1, 4,  5,  7, 44,   32,  12\n",
      "['1', '4', '5', '7', '44', '32', '12']\n"
     ]
    }
   ],
   "source": [
    "# Accept a string of values separated by commas\n",
    "input_string = input('Enter the numbers separated by commas: ')\n",
    "\n",
    "# Eliminate the extra spaces, using replace\n",
    "# Separate the values into a list, using split\n",
    "out_list = input_string.replace(' ','').split(',')\n",
    "\n",
    "print(out_list)"
   ]
  },
  {
   "cell_type": "code",
   "execution_count": 59,
   "metadata": {},
   "outputs": [
    {
     "data": {
      "text/plain": [
       "['1', ' 4', '  5', '  7', ' 44', '   32', '  12']"
      ]
     },
     "execution_count": 59,
     "metadata": {},
     "output_type": "execute_result"
    }
   ],
   "source": [
    "input_string.split(',')"
   ]
  },
  {
   "cell_type": "code",
   "execution_count": 64,
   "metadata": {},
   "outputs": [
    {
     "data": {
      "text/plain": [
       "['1', '4', '5', '7', '44', '32', '12']"
      ]
     },
     "execution_count": 64,
     "metadata": {},
     "output_type": "execute_result"
    }
   ],
   "source": [
    "out_list = ''.join(input_string.split()).split(',')\n",
    "out_list"
   ]
  },
  {
   "cell_type": "code",
   "execution_count": 65,
   "metadata": {},
   "outputs": [
    {
     "name": "stdout",
     "output_type": "stream",
     "text": [
      "Enter your input: AcadGild\n",
      "Input Word: AcadGild\n",
      "Output: dliGdacA\n"
     ]
    }
   ],
   "source": [
    "# Get a word through user input\n",
    "input_word = input('Enter your input: ')\n",
    "\n",
    "print('Input Word: ' + input_word)\n",
    "\n",
    "# Print the input word in the reverse order\n",
    "print('Output: ' + input_word[::-1])"
   ]
  },
  {
   "cell_type": "code",
   "execution_count": 72,
   "metadata": {
    "scrolled": true
   },
   "outputs": [
    {
     "name": "stdout",
     "output_type": "stream",
     "text": [
      "*\n",
      "**\n",
      "***\n",
      "****\n",
      "*****\n",
      "****\n",
      "***\n",
      "**\n",
      "*\n"
     ]
    }
   ],
   "source": [
    "# The output contains 9 rows. So loop the below logic for 9 times.\n",
    "for i in range(9):\n",
    "    out_str = ''\n",
    "    \n",
    "    # Below logic is executed until the 5th row in the output.\n",
    "    if i<5:\n",
    "        # This for loop creates a string of '*', in an increasing order of '*' count in each row.\n",
    "        for j in range(i+1):\n",
    "            out_str = '*' + out_str\n",
    "    \n",
    "    # Below logic is executed after the 5th row in the output.\n",
    "    if i>=5:\n",
    "        # This for loop creates a string of '*', in an decreasing order of '*' count in each row.\n",
    "        for j in range(9-i):\n",
    "            out_str = '*' + out_str\n",
    "    \n",
    "    # Displays the string built above.\n",
    "    print(out_str)"
   ]
  },
  {
   "cell_type": "code",
   "execution_count": 124,
   "metadata": {},
   "outputs": [
    {
     "name": "stdout",
     "output_type": "stream",
     "text": [
      "[0, 1, 1, 2, 3, 5, 8, 13]\n"
     ]
    }
   ],
   "source": [
    "def fib_series(last_value):\n",
    "    accumulator_val = 0\n",
    "    fib_series_lst = [0,1]\n",
    "    \n",
    "    for i in range(0,last_value+1):\n",
    "        if accumulator_val >= last_value:\n",
    "            break\n",
    "        else:\n",
    "            accumulator_val = fib_series_lst[i] + fib_series_lst[i+1]\n",
    "            fib_series_lst.append(accumulator_val)\n",
    "    print(fib_series_lst)\n",
    "\n",
    "fib_series(13)"
   ]
  },
  {
   "cell_type": "code",
   "execution_count": null,
   "metadata": {},
   "outputs": [],
   "source": []
  },
  {
   "cell_type": "code",
   "execution_count": null,
   "metadata": {},
   "outputs": [],
   "source": []
  },
  {
   "cell_type": "code",
   "execution_count": 141,
   "metadata": {},
   "outputs": [
    {
     "data": {
      "text/plain": [
       "1342"
      ]
     },
     "execution_count": 141,
     "metadata": {},
     "output_type": "execute_result"
    }
   ],
   "source": [
    "reduce(lambda x,y: x if x>y else y,num_list)"
   ]
  },
  {
   "cell_type": "code",
   "execution_count": 140,
   "metadata": {},
   "outputs": [
    {
     "data": {
      "text/plain": [
       "1342"
      ]
     },
     "execution_count": 140,
     "metadata": {},
     "output_type": "execute_result"
    }
   ],
   "source": [
    "# This program is equivalent to the below reduce() function logic\n",
    "# reduce(lambda x,y: x if x>y else y,num_list)\n",
    "\n",
    "#This function returns the maximum value from the list passed\n",
    "def max_val(in_list):\n",
    "    maximum_value = 0\n",
    "    for i in in_list:\n",
    "        if i > maximum_value:\n",
    "            maximum_value = i\n",
    "    return maximum_value\n",
    "\n",
    "num_list = [0,4,5,3,1,76,35,978,1342,543,43,12,2]\n",
    "max_val(num_list)"
   ]
  },
  {
   "cell_type": "code",
   "execution_count": 158,
   "metadata": {},
   "outputs": [
    {
     "data": {
      "text/plain": [
       "1342"
      ]
     },
     "execution_count": 158,
     "metadata": {},
     "output_type": "execute_result"
    }
   ],
   "source": [
    "def max_val(a,b):\n",
    "    if a > b:\n",
    "        return a\n",
    "    else:\n",
    "        return b\n",
    "    \n",
    "def my_reduce(func,seq):\n",
    "    result = 0\n",
    "    for i in seq:\n",
    "        result = func(result,i)\n",
    "    return result\n",
    "    \n",
    "num_list = [0,4,5,3,1,76,35,978,1342,543,43,12,2]\n",
    "final_result = my_reduce(max_val,num_list)\n",
    "\n",
    "final_result"
   ]
  },
  {
   "cell_type": "code",
   "execution_count": 115,
   "metadata": {},
   "outputs": [
    {
     "name": "stdout",
     "output_type": "stream",
     "text": [
      "[5, 10, 15, 20, 25, 30, 35, 40, 45, 50, 55, 60, 65, 70, 75, 80, 85, 90, 95]\n"
     ]
    }
   ],
   "source": [
    "# This program returns the list of numbers divisble by 5\n",
    "\n",
    "# This function verifies the input number is divisble by 5 or not\n",
    "def div_by_5(num):\n",
    "    if num%5 == 0:\n",
    "        return True\n",
    "    else:\n",
    "        return False\n",
    "\n",
    "list_div_by_5 = []\n",
    "\n",
    "# Identify the numbers divisble by 5, between 1 and 100. Append the number to the list, if the above function returns Truw.\n",
    "for i in range(1,100):\n",
    "    if div_by_5(i):\n",
    "        list_div_by_5.append(i)\n",
    "\n",
    "print(list_div_by_5)"
   ]
  },
  {
   "cell_type": "code",
   "execution_count": 162,
   "metadata": {},
   "outputs": [
    {
     "data": {
      "text/plain": [
       "[5, 10, 15, 20, 25, 30, 35, 40, 45, 50, 55, 60, 65, 70, 75, 80, 85, 90, 95]"
      ]
     },
     "execution_count": 162,
     "metadata": {},
     "output_type": "execute_result"
    }
   ],
   "source": [
    "# This function verifies the input number is divisble by 5 or not\n",
    "def div_by_5(num):\n",
    "    if num%5 == 0:\n",
    "        return True\n",
    "    else:\n",
    "        return False\n",
    "\n",
    "# Accepts the function name, to call and a list, to apply the function on\n",
    "# Returns a list of numbers satisfying the condition return in function passed\n",
    "def my_filter(func,seq):\n",
    "    out_list = []\n",
    "    for i in seq:\n",
    "        if func(i):\n",
    "            out_list.append(i)\n",
    "    return out_list\n",
    "    \n",
    "num_list = range(1,100)\n",
    "\n",
    "my_filter(div_by_5,num_list)"
   ]
  },
  {
   "cell_type": "code",
   "execution_count": null,
   "metadata": {},
   "outputs": [],
   "source": []
  },
  {
   "cell_type": "code",
   "execution_count": 116,
   "metadata": {},
   "outputs": [
    {
     "data": {
      "text/plain": [
       "[5, 10, 15, 20, 25, 30, 35, 40, 45, 50, 55, 60, 65, 70, 75, 80, 85, 90, 95]"
      ]
     },
     "execution_count": 116,
     "metadata": {},
     "output_type": "execute_result"
    }
   ],
   "source": [
    "list(filter(lambda i: i%5 == 0,range(1,100)))"
   ]
  },
  {
   "cell_type": "code",
   "execution_count": 86,
   "metadata": {},
   "outputs": [
    {
     "data": {
      "text/plain": [
       "['A', 'C', 'A', 'D', 'G', 'I', 'L', 'D']"
      ]
     },
     "execution_count": 86,
     "metadata": {},
     "output_type": "execute_result"
    }
   ],
   "source": [
    "[i for i in 'ACADGILD']"
   ]
  },
  {
   "cell_type": "code",
   "execution_count": 85,
   "metadata": {},
   "outputs": [
    {
     "data": {
      "text/plain": [
       "['x', 'xx', 'xxx', 'xxxx', 'y', 'yy', 'yyy', 'yyyy', 'z', 'zz', 'zzz', 'zzzz']"
      ]
     },
     "execution_count": 85,
     "metadata": {},
     "output_type": "execute_result"
    }
   ],
   "source": [
    "[i*(j+1) for i in ['x','y','z'] for j in range(4)]"
   ]
  },
  {
   "cell_type": "code",
   "execution_count": 87,
   "metadata": {},
   "outputs": [
    {
     "data": {
      "text/plain": [
       "['x', 'y', 'z', 'xx', 'yy', 'zz', 'xxx', 'yyy', 'zzz', 'xxxx', 'yyyy', 'zzzz']"
      ]
     },
     "execution_count": 87,
     "metadata": {},
     "output_type": "execute_result"
    }
   ],
   "source": [
    "[j*(i+1) for i in range(4) for j in ['x','y','z']]"
   ]
  },
  {
   "cell_type": "code",
   "execution_count": 95,
   "metadata": {},
   "outputs": [
    {
     "data": {
      "text/plain": [
       "[[2], [3], [4], [3], [4], [5], [4], [5], [6]]"
      ]
     },
     "execution_count": 95,
     "metadata": {},
     "output_type": "execute_result"
    }
   ],
   "source": [
    "[[j] for i in range(2,5) for j in range(i,i+3)]"
   ]
  },
  {
   "cell_type": "code",
   "execution_count": 98,
   "metadata": {},
   "outputs": [
    {
     "data": {
      "text/plain": [
       "[[2, 3, 4, 5], [3, 4, 5, 6], [4, 5, 6, 7], [5, 6, 7, 8]]"
      ]
     },
     "execution_count": 98,
     "metadata": {},
     "output_type": "execute_result"
    }
   ],
   "source": [
    "[[i+j for i in range(2,6)] for j in range(4)]"
   ]
  },
  {
   "cell_type": "code",
   "execution_count": 100,
   "metadata": {},
   "outputs": [
    {
     "data": {
      "text/plain": [
       "[(1, 1), (2, 1), (3, 1), (1, 2), (2, 2), (3, 2), (1, 3), (2, 3), (3, 3)]"
      ]
     },
     "execution_count": 100,
     "metadata": {},
     "output_type": "execute_result"
    }
   ],
   "source": [
    "[(j,i) for i in range(1,4) for j in range(1,4)]"
   ]
  },
  {
   "cell_type": "code",
   "execution_count": 78,
   "metadata": {},
   "outputs": [
    {
     "name": "stdout",
     "output_type": "stream",
     "text": [
      "Longest Word of ['my', 'name', 'is', 'Girish', 'Sure'] is Girish\n"
     ]
    }
   ],
   "source": [
    "# This function identifies the Longest Word of the list passed as input.\n",
    "def longestWord(in_list):\n",
    "    longest_word = ''\n",
    "    \n",
    "    # Traverse through the entire list and store the longest string using the len function on each string.\n",
    "    for i in range(len(in_list)):\n",
    "        if len(longest_word) < len(in_list[i]):\n",
    "            longest_word = in_list[i]\n",
    "    \n",
    "    return longest_word\n",
    "\n",
    "my_list = ['my','name','is','Girish','Sure']\n",
    "\n",
    "print('Longest Word of ' + str(my_list) + ' is ' + longestWord(my_list))\n",
    "#print('Longest Word ' + 'is ' + longestWord(my_list))"
   ]
  },
  {
   "cell_type": "code",
   "execution_count": 139,
   "metadata": {},
   "outputs": [
    {
     "name": "stdout",
     "output_type": "stream",
     "text": [
      "Longest Word of ['my', 'name', 'is', 'Girish', 'Sure'] is Girish\n"
     ]
    }
   ],
   "source": [
    "from functools import reduce\n",
    "longestWord = lambda x,y: x if len(x) > len(y) else y\n",
    "\n",
    "my_list = ['my','name','is','Girish','Sure']\n",
    "\n",
    "print('Longest Word of ' + str(my_list) + ' is ' + reduce(longWord,my_list))"
   ]
  },
  {
   "cell_type": "code",
   "execution_count": 150,
   "metadata": {},
   "outputs": [
    {
     "name": "stdout",
     "output_type": "stream",
     "text": [
      "Enter first side if triangle: 3\n",
      "Enter second side if triangle: 4\n",
      "Enter third side if triangle: 5\n",
      "The Area of Triangle of sides 3.0, 4.0, 5.0 is 6.0.\n"
     ]
    }
   ],
   "source": [
    "# Define a class to accept the values passed and a funtion within to calculate the area of triangle\n",
    "class Area:\n",
    "    def __init__(ptr,a,b,c):\n",
    "        ptr.side_a = a\n",
    "        ptr.side_b = b\n",
    "        ptr.side_c = c\n",
    "        \n",
    "    def triangle(ptr):\n",
    "        s = (ptr.side_a + ptr.side_b + ptr.side_c) / 2\n",
    "        area = (s * (s-ptr.side_a) * (s-ptr.side_b) * (s-ptr.side_c)) ** 0.5\n",
    "        return area\n",
    "\n",
    "# Accept the sides of traingle from user\n",
    "x = float(input('Enter first side if triangle: '))\n",
    "y = float(input('Enter second side if triangle: '))\n",
    "z = float(input('Enter third side if triangle: '))\n",
    "\n",
    "# Define an object to the class Area by passing the sides of triangle\n",
    "area = Area(x,y,z)\n",
    "\n",
    "# Call the function traingle() in the class Area, through the object area\n",
    "area_of_triangle = area.triangle()\n",
    "\n",
    "print('The Area of the Triangle of sides {}, {}, {} is {}.'.format(x,y,z,area_of_triangle))"
   ]
  },
  {
   "cell_type": "code",
   "execution_count": 104,
   "metadata": {},
   "outputs": [
    {
     "name": "stdout",
     "output_type": "stream",
     "text": [
      "Words longer than 3 characters is/are ['name', 'Girish', 'Sure']\n"
     ]
    }
   ],
   "source": [
    "def filter_long_words(in_list,str_length):\n",
    "    out_list = []\n",
    "    for i in range(len(in_list)):\n",
    "        if len(in_list[i]) > str_length:\n",
    "            out_list.append(in_list[i])\n",
    "    return out_list\n",
    "\n",
    "my_list = ['my','name','is','Girish','Sure']\n",
    "string_length = 3\n",
    "\n",
    "print('Words longer than ' + str(string_length) + ' characters is/are ' + str(filter_long_words(my_list,string_length)))"
   ]
  },
  {
   "cell_type": "code",
   "execution_count": 112,
   "metadata": {},
   "outputs": [
    {
     "name": "stdout",
     "output_type": "stream",
     "text": [
      "Words longer than 3 characters is/are ['name', 'Girish', 'Sure']\n"
     ]
    }
   ],
   "source": [
    "def filter_long_words(in_list,str_length):\n",
    "    out_list = filter(lambda i: len(i) > str_length, in_list)\n",
    "    return out_list\n",
    "\n",
    "my_list = ['my','name','is','Girish','Sure']\n",
    "string_length = 3\n",
    "\n",
    "print('Words longer than ' + str(string_length) + ' characters is/are ' + str(list(filter_long_words(my_list,string_length))))"
   ]
  },
  {
   "cell_type": "code",
   "execution_count": null,
   "metadata": {},
   "outputs": [],
   "source": []
  },
  {
   "cell_type": "code",
   "execution_count": 133,
   "metadata": {},
   "outputs": [
    {
     "data": {
      "text/plain": [
       "[2, 3, 4, 1, 3]"
      ]
     },
     "execution_count": 133,
     "metadata": {},
     "output_type": "execute_result"
    }
   ],
   "source": [
    "def len_of_words(in_word):\n",
    "    return len(in_word)\n",
    "\n",
    "list_of_words = ['ab','cde','erty','a','abc']\n",
    "list(map(len_of_words,list_of_words))"
   ]
  },
  {
   "cell_type": "code",
   "execution_count": 136,
   "metadata": {},
   "outputs": [
    {
     "name": "stdout",
     "output_type": "stream",
     "text": [
      "Enter an Alphabet: n\n"
     ]
    },
    {
     "data": {
      "text/plain": [
       "False"
      ]
     },
     "execution_count": 136,
     "metadata": {},
     "output_type": "execute_result"
    }
   ],
   "source": [
    "def is_vowel(in_char):\n",
    "    vowels = ['a','e','i','o','u']\n",
    "    for i in vowels:\n",
    "        if in_char == i:\n",
    "            return True\n",
    "        else:\n",
    "            return False\n",
    "    \n",
    "input_char = input('Enter an Alphabet: ')\n",
    "is_vowel(input_char)"
   ]
  },
  {
   "cell_type": "code",
   "execution_count": null,
   "metadata": {},
   "outputs": [],
   "source": []
  }
 ],
 "metadata": {
  "kernelspec": {
   "display_name": "Python 3",
   "language": "python",
   "name": "python3"
  },
  "language_info": {
   "codemirror_mode": {
    "name": "ipython",
    "version": 3
   },
   "file_extension": ".py",
   "mimetype": "text/x-python",
   "name": "python",
   "nbconvert_exporter": "python",
   "pygments_lexer": "ipython3",
   "version": "3.7.3"
  }
 },
 "nbformat": 4,
 "nbformat_minor": 2
}
